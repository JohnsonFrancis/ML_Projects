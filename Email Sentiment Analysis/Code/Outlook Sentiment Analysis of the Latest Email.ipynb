{
 "cells": [
  {
   "cell_type": "code",
   "execution_count": 1,
   "metadata": {},
   "outputs": [],
   "source": [
    "from textblob import TextBlob\n",
    "import win32com.client\n",
    "from email_reply_parser import EmailReplyParser\n",
    "import unicodedata"
   ]
  },
  {
   "cell_type": "code",
   "execution_count": 2,
   "metadata": {},
   "outputs": [
    {
     "name": "stdout",
     "output_type": "stream",
     "text": [
      "-----------------------------------------------------------\n",
      "Body starts-------------Negative--------------------------- \n",
      "-----------------------------------------------------------\n",
      "Test mail for email sentiment analysis. \n",
      "\n",
      "wtf\n",
      "\n",
      " \n",
      "\n",
      "Regards, \n",
      "\n",
      "\n",
      "-----------------------------------------------------------\n",
      "Body ends---------------Negative--------------------------- \n",
      "-----------------------------------------------------------\n"
     ]
    }
   ],
   "source": [
    "outlook=win32com.client.Dispatch(\"Outlook.Application\").GetNamespace(\"MAPI\")\n",
    "inbox=outlook.GetDefaultFolder(6)  # \"6\" refers to the index of a folder - in this case, the inbox.\n",
    "messages=inbox.Items\n",
    "msg=messages.GetLast()\n",
    "body_parsed=EmailReplyParser.parse_reply(msg.body)\n",
    "body_removed_signature=body_parsed.rsplit('\\xa0',1)[0]  # Not a fool proof mechanism\n",
    "body_normalized=unicodedata.normalize(\"NFKD\",body_removed_signature)\n",
    "polar=TextBlob(body_normalized).sentiment.polarity\n",
    "if polar > 0: Sent_Text='Positive'\n",
    "elif polar == 0: Sent_Text='Neutral'\n",
    "else: Sent_Text='Negative'\n",
    "print('-----------------------------------------------------------')\n",
    "print('Body starts-------------{}--------------------------- '.format(Sent_Text))\n",
    "print('-----------------------------------------------------------')\n",
    "print(body_normalized)\n",
    "print('-----------------------------------------------------------')\n",
    "print('Body ends---------------{}--------------------------- '.format(Sent_Text))\n",
    "print('-----------------------------------------------------------')"
   ]
  }
 ],
 "metadata": {
  "kernelspec": {
   "display_name": "Python 3.7 (ML_env)",
   "language": "python",
   "name": "ml_env"
  },
  "language_info": {
   "codemirror_mode": {
    "name": "ipython",
    "version": 3
   },
   "file_extension": ".py",
   "mimetype": "text/x-python",
   "name": "python",
   "nbconvert_exporter": "python",
   "pygments_lexer": "ipython3",
   "version": "3.7.8"
  }
 },
 "nbformat": 4,
 "nbformat_minor": 4
}
