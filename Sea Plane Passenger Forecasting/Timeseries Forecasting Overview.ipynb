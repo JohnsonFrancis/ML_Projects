{
 "cells": [
  {
   "cell_type": "markdown",
   "metadata": {},
   "source": [
    "# 1. What is Time series analysis?"
   ]
  },
  {
   "cell_type": "markdown",
   "metadata": {},
   "source": [
    "Time Series is a series of observations taken at specified time intervals usually equal intervals.<br>\n",
    "Analysis of the series helps us to predict future values based on previous observed values.<br>\n",
    "In Time series, we have only 2 variables, time & the variable we want to forecast."
   ]
  },
  {
   "cell_type": "markdown",
   "metadata": {},
   "source": [
    "# 2. Why & where Time Series is used?"
   ]
  },
  {
   "cell_type": "markdown",
   "metadata": {},
   "source": [
    "Time series data can be analysed in order to extract meaningful statistics and other charecteristsics. <br>\n",
    "It's used in atleast the 4 scenarios:<br>\n",
    "\n",
    "a) Business Forecasting<br>\n",
    "b) Understand past behavior<br>\n",
    "c) Plan the future<br>\n",
    "d) Evaluate current accomplishment<br>"
   ]
  },
  {
   "cell_type": "markdown",
   "metadata": {},
   "source": [
    "# 3. When shouldn't we use Time Series Analysis?"
   ]
  },
  {
   "cell_type": "markdown",
   "metadata": {},
   "source": [
    "We don't need to apply Time series in atleast the following 2 cases:<br>\n",
    "\n",
    "a) The dependant variable(y) (that is supposed to vary with time) is constant. Eq: y=f(x)=4, a line parallel to x-axis(time) will always remain the same.<br>\n",
    "b) The dependant variable(y) represent values that can be denoted as a mathematical function. Eq: sin(x), log(x), Polynomials etc. <br>\n",
    "\n",
    "Thus, we can directly get value at some time using the function itself. <br>\n",
    "No need of forecasting.<br>"
   ]
  },
  {
   "cell_type": "markdown",
   "metadata": {},
   "source": [
    "# 4. What are the components of Time Series?"
   ]
  },
  {
   "cell_type": "markdown",
   "metadata": {},
   "source": [
    " There are 4 components:<br>\n",
    " \n",
    "a) Trend - Upward & downward movement of the data with time over a large period of time. Eq: Appreciation of Dollar vs rupee.<br>\n",
    "b) Seasonality - seasonal variances. Eq: Ice cream sales increases in Summer only<br>\n",
    "c) Noise or Irregularity - Spikes & troughs at random intervals<br>\n",
    "d) Cyclicity - behavior that repeats itself after large interval of time, like months, years etc.<br>"
   ]
  },
  {
   "cell_type": "markdown",
   "metadata": {},
   "source": [
    "# 5. What is Stationarity?"
   ]
  },
  {
   "cell_type": "markdown",
   "metadata": {},
   "source": [
    "Before applying any statistical model on a Time Series, the series has to be staionary, which means that, over different time periods,<br>\n",
    "\n",
    "a) It should have constant mean.<br>\n",
    "b) It should have constant variance or standard deviation.<br>\n",
    "c) Auto-covariance should not depend on time.<br>\n",
    "\n",
    "Trend & Seasonality are two reasons why a Time Series is not stationaru & hence need to be corrected.<br>"
   ]
  },
  {
   "cell_type": "markdown",
   "metadata": {},
   "source": [
    "# 6. Why does Time Series(TS) need to be stationary?"
   ]
  },
  {
   "cell_type": "markdown",
   "metadata": {},
   "source": [
    "It is because of the following reasons:<br>\n",
    "\n",
    "a) If a TS has a particular behavior over a time interval, then there's a high probability that over a different interval, it will have same behavior, provided TS is stationary. This helps in forecasting accurately.<br>\n",
    "b) Theories & Mathematical formulas ae more mature & easier to apply for as TS which is stationary.<br>\n"
   ]
  },
  {
   "cell_type": "markdown",
   "metadata": {},
   "source": [
    "# 7. How to make a Time Series Stationary?"
   ]
  },
  {
   "cell_type": "markdown",
   "metadata": {},
   "source": [
    "Though stationarity assumption is taken in many TS models, almost none of practical time series are stationary. So statisticians have figured out ways to make series stationary. Actually, its almost impossible to make a series perfectly stationary, but we try to take it as close as possible.\n",
    "\n",
    "Lets understand what is making a TS non-stationary. <br>\n",
    "There are 2 major reasons behind non-stationaruty of a TS:<br>\n",
    "1. Trend – varying mean over time. For eg, in this case we saw that on average, the number of passengers was growing over time.<br>\n",
    "2. Seasonality – variations at specific time-frames. eg people might have a tendency to buy cars in a particular month because of pay increment or festivals.<br>\n",
    "\n",
    "The underlying principle is to model or estimate the trend and seasonality in the series and remove those from the series to get a stationary series. Then statistical forecasting techniques can be implemented on this series. The final step would be to convert the forecasted values into the original scale by applying trend and seasonality constraints back."
   ]
  },
  {
   "cell_type": "markdown",
   "metadata": {},
   "source": [
    "# 8. What are Tests to check if a series is stationary or not?"
   ]
  },
  {
   "cell_type": "markdown",
   "metadata": {},
   "source": [
    "There are 2 ways to check for Stationarity of a TS:<br>\n",
    "\n",
    "a) Rolling Statistics - Plot the moving avg or moving standard deviation to see if it varies with time.Its a visual technique. <br>\n",
    "b) ADCF Test - Augmented Dickey–Fuller test is used to gives us various values that can help in identifying stationarity. <br>\n",
    "\n",
    "The Null hypothesis says that a TS is non-stationary.<br>\n",
    "It comprises of a Test Statistics & some critical values for some confidence levels. <br>\n",
    "If the Test statistics is less than the critical values, we can reject the null hypothesis & say that the series is stationary. <br>\n",
    "THE ADCF test also gives us a p-value. Acc to the null hypothesis, lower values of p is better.<br>"
   ]
  },
  {
   "cell_type": "markdown",
   "metadata": {},
   "source": [
    "# 9. What is ADCF test?"
   ]
  },
  {
   "cell_type": "markdown",
   "metadata": {},
   "source": [
    "In statistics and econometrics, an augmented Dickey–Fuller test (ADF) tests the null hypothesis that a unit root is present in a time series sample. <br>\n",
    "The alternative hypothesis is different depending on which version of the test is used, but is usually stationarity or trend-stationarity. <br>\n",
    "It is an augmented version of the Dickey–Fuller test for a larger and more complicated set of time series models.\n",
    "\n",
    "The augmented Dickey–Fuller (ADF) statistic, used in the test, is a negative number.<br> \n",
    "The more negative it is, the stronger the rejection of the hypothesis that there is a unit root at some level of confidence.<br>\n",
    "\n",
    "p value(0<=p<=1) should be as low as possible. Critical values at different confidence intervals should be close to the Test statistics value.<br>"
   ]
  },
  {
   "cell_type": "markdown",
   "metadata": {},
   "source": [
    "# 10. How to Eliminate Trend?"
   ]
  },
  {
   "cell_type": "markdown",
   "metadata": {},
   "source": [
    "To identify the trend , the best way is to visualize it through graphs.<br>\n",
    "And there are many techniques used for this. Some times even they used toegher. <br>\n",
    "\n",
    "    1. Transformation – Taking log, square root, cube root, box cox, etc \n",
    "    2. Aggregation – Taking average for a time period like monthly/weekly averages\n",
    "    3. Smoothing – Taking rolling averages, Exponential Smoothing, Exponential decay\n",
    "    4. Polynomial Fitting – fit a regression model \n",
    "    \n",
    "__Note: We may not be able to convert back the predicted values to original scale, if we choose Aggregation or Smoothing. So, if that is a requirement for you, you may need to select Transformation or Polynomial fitting as they will have the ability to revert.__"
   ]
  },
  {
   "cell_type": "markdown",
   "metadata": {},
   "source": [
    "### What is a Box Cox Transformation?"
   ]
  },
  {
   "attachments": {
    "image-2.png": {
     "image/png": "[encoded data removed]"
    },
    "image.png": {
     "image/png": "[encoded data removed]"
    }
   },
   "cell_type": "markdown",
   "metadata": {},
   "source": [
    "A Box Cox transformation is a transformation of a non-normal dependent variables into a normal shape. <br>\n",
    "Normality is an important assumption for many statistical techniques; if your data isn’t normal, applying a Box-Cox means that you are able to run a broader number of tests.\n",
    "\n",
    "\n",
    "At the core of the Box Cox transformation is an exponent, lambda (λ), which varies from -5 to 5. <br>\n",
    "All values of λ are considered and the optimal value for your data is selected;<br>\n",
    "The “optimal value” is the one which results in the best approximation of a normal distribution curve.<br>\n",
    "The transformation of Y has the form:<br>\n",
    "Boxcox formula 1\n",
    "![image.png](attachment:image.png)\n",
    "\n",
    "This test only works for positive data. <br>\n",
    "\n",
    "However, Box and Cox did propose a second formula that can be used for negative y-values:<br>\n",
    "Boxcox formula2\n",
    "![image-2.png](attachment:image-2.png)"
   ]
  },
  {
   "cell_type": "markdown",
   "metadata": {},
   "source": [
    "### What is Exponential Smoothing?"
   ]
  },
  {
   "cell_type": "markdown",
   "metadata": {},
   "source": [
    "Exponential smoothing is a rule of thumb technique for smoothing time series data using the exponential window function.<br> Whereas in the simple moving average the past observations are weighted equally, exponential functions are used to assign exponentially decreasing weights over time.<br>\n",
    "It is an easily learned and easily applied procedure for making some determination based on prior assumptions by the user, such as seasonality.<br> \n",
    "Exponential smoothing is often used for analysis of time-series data.<br>\n",
    "\n",
    "The raw data sequence is often represented by  xt  beginning at time  t=0 , and the output of the exponential smoothing algorithm is commonly written as  st , which may be regarded as a best estimate of what the next value of  x  will be. <br>\n",
    "When the sequence of observations begins at time  t=0 , the simplest form of exponential smoothing is given by the formulas:<br>\n",
    "s0=x0 <br>\n",
    "st=α∗xt+(1−α)∗st−1  ,  t>0 <br>\n",
    "where  α  is the smoothing factor, and  0<α<1 .<br>"
   ]
  },
  {
   "cell_type": "markdown",
   "metadata": {},
   "source": [
    "### What is Exponential decay?"
   ]
  },
  {
   "cell_type": "markdown",
   "metadata": {},
   "source": [
    "A quantity is subject to exponential decay if it decreases at a rate proportional to its current value. <br>\n",
    "Symbolically, this process can be expressed by the following differential equation, where N is the quantity and λ (lambda) is a positive rate called the exponential decay constant:<br>\n",
    "\n",
    "dN/dt=−λN <br>\n",
    "The solution to this equation (see derivation below) is:<br>\n",
    "N(t)=N0∗e−λt <br>\n",
    "where N(t) is the quantity at time t, and N0 = N(0) is the initial quantity, i.e. the quantity at time t = 0.<br>\n",
    "\n",
    "Half Life is the time required for the decaying quantity to fall to one half of its initial value. <br>\n",
    "It is denoted by  t1/2 . <br>\n",
    "The half-life can be written in terms of the decay constant as: t1/2=ln(2)/λ<br>"
   ]
  },
  {
   "cell_type": "markdown",
   "metadata": {},
   "source": [
    "# 11. How to Eliminate Trend and Seasonality?"
   ]
  },
  {
   "cell_type": "markdown",
   "metadata": {},
   "source": [
    "The simple trend reduction techniques discussed before don’t work in all cases, particularly the ones with high seasonality. <br>Lets discuss two ways of removing trend and seasonality:\n",
    "\n",
    "1) Differencing – taking the differece with a particular time lag <Br>\n",
    "2) Decomposition – modeling both trend and seasonality and removing them from the model.\n",
    "    \n",
    "__Note: We may not be able to convert back the predicted values to original scale, if we choose Decomposition. So, if that is a requirement for you, you may need to select Differencing as they will have the ability to revert.__"
   ]
  },
  {
   "cell_type": "markdown",
   "metadata": {},
   "source": [
    "### What is Differencing?"
   ]
  },
  {
   "cell_type": "markdown",
   "metadata": {},
   "source": [
    "One of the most common methods of dealing with both trend and seasonality is differencing. <br>\n",
    "In this technique, we take the difference of the observation at a particular instant with that at the previous instant. <br>\n",
    "This mostly works well in improving stationarity. <br>\n",
    "Differencing can help stabilise the mean of a time series by removing changes in the level of a time series, and therefore eliminating (or reducing) trend and seasonality.\n",
    "\n",
    "First-order differencing addresses linear trends, and employs the transformation zi = yi – yi-1. <br>\n",
    "Second-order differencing addresses quadratic trends and employs a first-order difference of a first-order difference, namely zi = (yi – yi-1) – (yi-1 – yi-2), which is equivalent to zi = yi – 2yi-1+ yi-2."
   ]
  },
  {
   "cell_type": "markdown",
   "metadata": {},
   "source": [
    "### What is Decomposition?"
   ]
  },
  {
   "cell_type": "markdown",
   "metadata": {},
   "source": [
    "Decomposition is primarily used for time series analysis, and as an analysis tool it can be used to inform forecasting models on your problem.It disaggregate a time series into three components -- trend, seasonal and residual.\n",
    "The trend component is supposed to capture the slowly-moving overall level of the series.\n",
    "The seasonal component captures patterns that repeat every season.\n",
    "The residual is what is left. It may or may not be autocorrelated. For example, there can be some autocorrelated pattern evolving quickly around the slowly moving trend plus the seasonal fluctuations. This kind of pattern cannot be ascribed to the trend component (the former moves too fast) or the seasonal component (the former does not obey seasonal timing). So it is left in the remainder.\n",
    "\n",
    "So, this provides a structured way of thinking about a time series forecasting problem, both generally in terms of modeling complexity and specifically in terms of how to best capture each of those components in a given model.\n",
    "\n",
    "Each of these components are something you may need to think about and address during data preparation, model selection, and model tuning. You may address it explicitly in terms of modeling the trend and subtracting it from your data, or implicitly by providing enough history for an algorithm to model a trend if it may exist.\n",
    "\n",
    "It has basically 2 verities.<br>\n",
    "1) Additive Model:<br>\n",
    "An additive model suggests that the components are added together as y(t) = Level + Trend + Seasonality + Noise.<br>\n",
    "It is linear where changes over time are consistently made by the same amount.\n",
    "A linear trend is a straight line.\n",
    "A linear seasonality has the same frequency (width of cycles) and amplitude (height of cycles).<br>\n",
    "\n",
    "2) Multiplicative Model:<br>\n",
    "A multiplicative model suggests that the components are multiplied together as y(t) = Level * Trend * Seasonality * Noise. <br>\n",
    "It is nonlinear, such as quadratic or exponential. Changes increase or decrease over time.\n",
    "A nonlinear trend is a curved line.\n",
    "A non-linear seasonality has an increasing or decreasing frequency and/or amplitude over time.<br>\n",
    "\n",
    "You may or may not be able to cleanly or perfectly break down your specific time series as an additive or multiplicative model.\n",
    "\n",
    "Real-world problems are messy and noisy. There may be additive and multiplicative components. There may be an increasing trend followed by a decreasing trend. There may be non-repeating cycles mixed in with the repeating seasonality components.\n",
    "\n",
    "Nevertheless, these abstract models provide a simple framework that you can use to analyze your data and explore ways to think about and forecast your problem"
   ]
  },
  {
   "cell_type": "markdown",
   "metadata": {},
   "source": [
    "# 12. What is Naive forecast or Persistence?"
   ]
  },
  {
   "cell_type": "markdown",
   "metadata": {},
   "source": [
    "The first step before getting bogged down in data analysis and modeling is to establish a baseline of performance.\n",
    "\n",
    "This will provide both a template for evaluating models using the proposed test harness and a performance measure by which all more elaborate predictive models can be compared.\n",
    "\n",
    "The baseline prediction for time series forecasting is called the naive forecast, or persistence.\n",
    "\n",
    "This is where the observation from the previous time step is used as the prediction for the observation at the next time step."
   ]
  },
  {
   "cell_type": "markdown",
   "metadata": {},
   "source": [
    "# 13. What is Walk Forward Validation?"
   ]
  },
  {
   "cell_type": "markdown",
   "metadata": {},
   "source": [
    "In time series modelling, the predictions over time become less and less accurate and hence it is a more realistic approach to re-train the model with actual data as it gets available for further predictions. Since training of statistical models are not time consuming, walk-forward validation is the most preferred solution to get most accurate results.\n",
    "\n",
    "In walk-forward, the datasets is divided into parts, i.e. the smallest unit that can be ordered. Then parts are chronologically ordered, and I each run, all the data available before the part to predict is used as the training set, and the part to predict is used as test-set. Afterward, the model accuracy is computed as the average among runs. Walk-forward technique is basically used to re-train the model each time as the new data is available.Time series validation techniques have both advantage and disadvantage. One of the main advantage is they replicate a realistic usage scenario. Another advantage is they are fast and inexpensive as number of runs is equal to number of parts. Another main advantage is that they are not affected by any bias related to the randomness with which the training and test sets are generated.\n",
    "\n",
    "As we will need to be reverse transforming the predicted points on a singular basis, only mathematical transformation( log, square root, cube root, box cox, etc) which can be done on a single value can be used in this Walk Forward Validation. "
   ]
  },
  {
   "cell_type": "markdown",
   "metadata": {},
   "source": [
    "# 14. What is ARIMA model?"
   ]
  },
  {
   "cell_type": "markdown",
   "metadata": {},
   "source": [
    "ARIMA(Auto Regressive Integrated Moving Average) is a combination of 2 models AR(Auto Regressive) & MA(Moving Average). <br>\n",
    "The AR/MA/ARIMA type of forecasting for a stationary time series is nothing but a linear (like a linear regression) equation. <br>The predictors depend on the 3 parameters (p,d,q):<br>\n",
    "    P(auto regressive lags), <br>\n",
    "    d(order of differentiation),<br>\n",
    "    Q(moving avg.) <br>\n",
    "which respectively comes from the AR, I & MA components. <br>\n",
    "\n",
    "The AR part is correlation between prev & current time periods. <br>\n",
    "To smooth out the noise, the MA part is used. The I part binds together the AR & MA parts.<br>\n",
    "\n",
    "Number of AR (Auto-Regressive) terms (p): AR terms are just lags of dependent variable.<br>\n",
    "For instance if p is 5, the predictors for x(t) will be x(t-1)….x(t-5).\n",
    "\n",
    "Number of MA (Moving Average) terms (q): MA terms are lagged forecast errors in prediction equation. <br>\n",
    "For instance if q is 5, the predictors for x(t) will be e(t-1)….e(t-5) where e(i) is the difference between the moving average at ith instant and actual value.\n",
    "\n",
    "Number of Differences (d): These are the number of nonseasonal differences, <br>\n",
    "i.e. if we take the first order difference either we can pass that variable and put d=0 or pass the original variable and put d=1. Both will generate same results."
   ]
  },
  {
   "cell_type": "markdown",
   "metadata": {},
   "source": [
    "### How to find value of p & q for ARIMA ?"
   ]
  },
  {
   "cell_type": "markdown",
   "metadata": {},
   "source": [
    "To determine the value of ‘p’ and ‘q’. We use two plots to determine these numbers.<br>\n",
    "\n",
    "Autocorrelation Function (ACF): <br>\n",
    "It is a measure of the correlation between the time series with a lagged version of itself. <br>\n",
    "For instance at lag 5, ACF would compare series at time instant ‘t1’…’t2’ with series at instant ‘t1-5’…’t2-5’ (t1-5 and t2 being end points).<br>\n",
    "\n",
    "Partial Autocorrelation Function (PACF): <br>\n",
    "This measures the correlation between the time series with a lagged version of itself but after eliminating the variations already explained by the intervening comparisons. <br>\n",
    "Eg at lag 5, it will check the correlation but remove the effects already explained by lags 1 to 4.\n",
    "\n",
    "ACF & PACF graphs are used to find value of p & q for ARIMA. <br>\n",
    "We need to check, for which value in x-axis, graph line drops to 0 in y-axis for 1st time.<br>\n",
    "From PACF(at y=0), get p<br>\n",
    "From ACF(at y=0), get q<br>\n",
    "These need not be an optimum value for p & q. But definitely will be a good starting point."
   ]
  },
  {
   "cell_type": "markdown",
   "metadata": {},
   "source": [
    "### Special cases of ARIMA models"
   ]
  },
  {
   "cell_type": "markdown",
   "metadata": {},
   "source": [
    "Based on the values of p,d,q there are a few special cases of ARIMA models\n",
    "\n",
    "White noise\t           : ARIMA(0,0,0) <br> \n",
    "Random walk\t           : ARIMA(0,1,0) with no constant <br>\n",
    "Random walk with drift : ARIMA(0,1,0) with a constant <br>\n",
    "Autoregression         : ARIMA(p,0,0) <br>\n",
    "Moving average         : ARIMA(0,0,q) <br>"
   ]
  },
  {
   "cell_type": "markdown",
   "metadata": {},
   "source": [
    "### Steps for ARIMA implementation"
   ]
  },
  {
   "cell_type": "markdown",
   "metadata": {},
   "source": [
    "The general steps to implement an ARIMA model are –<br>\n",
    "\n",
    "1) Load the data: The first step for model building is of course to load the dataset<br>\n",
    "2) Preprocessing: Depending on the dataset, the steps of preprocessing will be defined. This will include creating timestamps, converting the dtype of date/time column, making the series univariate, etc.<br>\n",
    "3) Make series stationary: In order to satisfy the assumption, it is necessary to make the series stationary. This would include checking the stationarity of the series and performing required transformations<br>\n",
    "4) Determine d value: For making the series stationary, the number of times the difference operation was performed will be taken as the d value<br>\n",
    "5) Create ACF and PACF plots: This is the most important step in ARIMA implementation. ACF PACF plots are used to determine the input parameters for our ARIMA model<br>\n",
    "6) Determine the p and q values: Read the values of p and q from the plots in the previous step<br>\n",
    "7) Fit ARIMA model: Using the processed data and parameter values we calculated from the previous steps, fit the ARIMA model<br>\n",
    "8) Predict values on validation set: Predict the future values<br>\n",
    "9) Calculate RMSE: To check the performance of the model, check the RMSE value using the predictions and actual values on the validation set<br>"
   ]
  },
  {
   "cell_type": "markdown",
   "metadata": {},
   "source": [
    "### Seasonal ARIMA (SARIMA)"
   ]
  },
  {
   "cell_type": "markdown",
   "metadata": {},
   "source": [
    "A problem with ARIMA is that it does not support seasonal data. That is a time series with a repeating cycle.\n",
    "ARIMA expects data that is either not seasonal or has the seasonal component removed, e.g. seasonally adjusted via methods such as seasonal differencing.\n",
    "\n",
    "The seasonal ARIMA model incorporates both non-seasonal and seasonal factors in a multiplicative model. <br>\n",
    "\n",
    "One shorthand notation for the model is\n",
    "ARIMA (p,d,q)(P,D,Q)m\n",
    "with p = non-seasonal AR order, <br>\n",
    "d = non-seasonal differencing,  <br>\n",
    "q = non-seasonal MA order,  <br>\n",
    "P = seasonal AR order,  <br>\n",
    "D = seasonal differencing,  <br>\n",
    "Q = seasonal MA order,  <br>\n",
    "and m = time span of repeating seasonal pattern."
   ]
  },
  {
   "cell_type": "markdown",
   "metadata": {},
   "source": [
    "### Auto ARIMA"
   ]
  },
  {
   "cell_type": "markdown",
   "metadata": {},
   "source": [
    "Although ARIMA is a very powerful model for forecasting time series data, the data preparation and parameter tuning processes end up being really time consuming. Before implementing ARIMA, you need to make the series stationary, and determine the values of p and q using the plots we discussed above. Auto ARIMA makes this task really simple for us as it eliminates steps 3 to 6 we saw in the previous section. <br>\n",
    "\n",
    "Below are the steps you should follow for implementing auto ARIMA:<br>\n",
    "\n",
    "1) Load the data: This step will be the same. Load the data into your notebook<br>\n",
    "2) Preprocessing data: The input should be univariate, hence drop the other columns<br>\n",
    "3) Fit Auto ARIMA: Fit the model on the univariate series<br>\n",
    "4) Predict values on validation set: Make predictions on the validation set<br>\n",
    "5) Calculate RMSE: Check the performance of the model using the predicted values against the actual values<br>\n",
    "\n",
    "Auto ARIMA takes into account the AIC and BIC values generated (as you can see in the code) to determine the best combination of parameters. AIC (Akaike Information Criterion) and BIC (Bayesian Information Criterion) values are estimators to compare models. The lower these values, the better is the model."
   ]
  }
 ],
 "metadata": {
  "kernelspec": {
   "display_name": "Python [conda env:ML_env] *",
   "language": "python",
   "name": "conda-env-ML_env-py"
  },
  "language_info": {
   "codemirror_mode": {
    "name": "ipython",
    "version": 3
   },
   "file_extension": ".py",
   "mimetype": "text/x-python",
   "name": "python",
   "nbconvert_exporter": "python",
   "pygments_lexer": "ipython3",
   "version": "3.7.9"
  }
 },
 "nbformat": 4,
 "nbformat_minor": 4
}
